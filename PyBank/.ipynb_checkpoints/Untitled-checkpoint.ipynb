{
 "cells": [
  {
   "cell_type": "markdown",
   "metadata": {},
   "source": [
    "In this challenge, you are tasked with creating a Python script for analyzing the financial records of your company. You will give a set of financial data called budget_data.csv. The dataset is composed of two columns: Date and Profit/Losses. (Thankfully, your company has rather lax standards for accounting so the records are simple.)\n",
    "\n",
    "Your task is to create a Python script that analyzes the records to calculate each of the following:\n",
    "\n",
    "\n",
    "The total number of months included in the dataset\n",
    "\n",
    "The total net amount of \"Profit/Losses\" over the entire period\n",
    "\n",
    "The average change in \"Profit/Losses\" between months over the entire period\n",
    "\n",
    "The greatest increase in profits (date and amount) over the entire period\n",
    "\n",
    "The greatest decrease in losses (date and amount) over the entire period\n",
    "\n",
    "\n",
    "In addition, your final script should both print the analysis to the terminal and export a text file with the results."
   ]
  },
  {
   "cell_type": "code",
   "execution_count": 48,
   "metadata": {},
   "outputs": [],
   "source": [
    "import os\n",
    "import csv\n",
    "\n",
    "#define csv path\n",
    "budget_path = os.path.join(\"..\", \"..\", \"..\", \"RICEHOU201811DATA2\", \"class-tth\", \"03-Python\", \"homework\", \"Instructions\", \"PyBank\", \"Resources\", \"budget_data.csv\")"
   ]
  },
  {
   "cell_type": "code",
   "execution_count": 65,
   "metadata": {},
   "outputs": [
    {
     "name": "stdout",
     "output_type": "stream",
     "text": [
      "86\n"
     ]
    }
   ],
   "source": [
    "#read in the csv file\n",
    "with open(budget_path, \"r\",newline=\"\") as budget_csv:\n",
    "\n",
    "    budget_reader = csv.reader(budget_csv, delimiter=\",\")\n",
    "    budget_header = next(budget_reader)\n",
    "    \n",
    "    month_count = 0\n",
    "    total_profit = 0\n",
    "    month_list = []\n",
    "    profit_list = []\n",
    "        \n",
    "    for row in budget_reader:\n",
    "        month_count +=1\n",
    "        total_profit += int(row[1])\n",
    "        month_list.append(row[0])\n",
    "        profit_list.append(row[1])\n",
    "        \n",
    "    print(len(profit_list))"
   ]
  },
  {
   "cell_type": "code",
   "execution_count": 72,
   "metadata": {},
   "outputs": [
    {
     "ename": "SyntaxError",
     "evalue": "invalid syntax (<ipython-input-72-2cae888ad404>, line 3)",
     "output_type": "error",
     "traceback": [
      "\u001b[1;36m  File \u001b[1;32m\"<ipython-input-72-2cae888ad404>\"\u001b[1;36m, line \u001b[1;32m3\u001b[0m\n\u001b[1;33m    print(int(monthly_change))\u001b[0m\n\u001b[1;37m        ^\u001b[0m\n\u001b[1;31mSyntaxError\u001b[0m\u001b[1;31m:\u001b[0m invalid syntax\n"
     ]
    }
   ],
   "source": [
    "    monthly_change = [profit_list[i+1] - [profit_list[i] for i in range(len(profit_list)-1)]\n",
    "    \n",
    "    print(int(monthly_change))"
   ]
  },
  {
   "cell_type": "code",
   "execution_count": null,
   "metadata": {},
   "outputs": [],
   "source": []
  }
 ],
 "metadata": {
  "kernelspec": {
   "display_name": "Python 3",
   "language": "python",
   "name": "python3"
  },
  "language_info": {
   "codemirror_mode": {
    "name": "ipython",
    "version": 3
   },
   "file_extension": ".py",
   "mimetype": "text/x-python",
   "name": "python",
   "nbconvert_exporter": "python",
   "pygments_lexer": "ipython3",
   "version": "3.7.0"
  }
 },
 "nbformat": 4,
 "nbformat_minor": 2
}
