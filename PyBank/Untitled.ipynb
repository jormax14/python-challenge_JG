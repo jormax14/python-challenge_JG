{
 "cells": [
  {
   "cell_type": "markdown",
   "metadata": {},
   "source": [
    "In this challenge, you are tasked with creating a Python script for analyzing the financial records of your company. You will give a set of financial data called budget_data.csv. The dataset is composed of two columns: Date and Profit/Losses. (Thankfully, your company has rather lax standards for accounting so the records are simple.)\n",
    "\n",
    "Your task is to create a Python script that analyzes the records to calculate each of the following:\n",
    "\n",
    "\n",
    "The total number of months included in the dataset\n",
    "\n",
    "The total net amount of \"Profit/Losses\" over the entire period\n",
    "\n",
    "The average change in \"Profit/Losses\" between months over the entire period\n",
    "\n",
    "The greatest increase in profits (date and amount) over the entire period\n",
    "\n",
    "The greatest decrease in losses (date and amount) over the entire period\n",
    "\n",
    "\n",
    "In addition, your final script should both print the analysis to the terminal and export a text file with the results."
   ]
  },
  {
   "cell_type": "code",
   "execution_count": 2,
   "metadata": {},
   "outputs": [],
   "source": [
    "import os\n",
    "import csv\n",
    "\n",
    "#define csv path\n",
    "budget_path = os.path.join(\"..\", \"..\", \"..\", \"RICEHOU201811DATA2\", \"class-tth\", \"03-Python\", \"homework\", \"Instructions\", \"PyBank\", \"Resources\", \"budget_data.csv\")"
   ]
  },
  {
   "cell_type": "code",
   "execution_count": 22,
   "metadata": {},
   "outputs": [
    {
     "name": "stdout",
     "output_type": "stream",
     "text": [
      "86\n",
      "38382578\n"
     ]
    }
   ],
   "source": [
    "#read in the csv file\n",
    "with open(budget_path, \"r\",newline=\"\") as budget_csv:\n",
    "\n",
    "    budget_reader = csv.reader(budget_csv, delimiter=\",\")\n",
    "    budget_header = next(budget_reader)\n",
    "    \n",
    "    month_count = 0\n",
    "    total_profit = 0\n",
    "    \n",
    "    for row in budget_reader:\n",
    "        month_count +=1\n",
    "        total_profit += int(row[1])\n",
    "        \n",
    "    print(month_count)\n",
    "    print(total_profit)\n",
    "  "
   ]
  }
 ],
 "metadata": {
  "kernelspec": {
   "display_name": "Python 3",
   "language": "python",
   "name": "python3"
  },
  "language_info": {
   "codemirror_mode": {
    "name": "ipython",
    "version": 3
   },
   "file_extension": ".py",
   "mimetype": "text/x-python",
   "name": "python",
   "nbconvert_exporter": "python",
   "pygments_lexer": "ipython3",
   "version": "3.7.0"
  }
 },
 "nbformat": 4,
 "nbformat_minor": 2
}
