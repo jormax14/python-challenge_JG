{
 "cells": [
  {
   "cell_type": "markdown",
   "metadata": {},
   "source": [
    "In this challenge, you are tasked with creating a Python script for analyzing the financial records of your company. You will give a set of financial data called budget_data.csv. The dataset is composed of two columns: Date and Profit/Losses. (Thankfully, your company has rather lax standards for accounting so the records are simple.)\n",
    "\n",
    "Your task is to create a Python script that analyzes the records to calculate each of the following:\n",
    "\n",
    "\n",
    "The total number of months included in the dataset\n",
    "\n",
    "The total net amount of \"Profit/Losses\" over the entire period\n",
    "\n",
    "The average change in \"Profit/Losses\" between months over the entire period\n",
    "\n",
    "The greatest increase in profits (date and amount) over the entire period\n",
    "\n",
    "The greatest decrease in losses (date and amount) over the entire period\n",
    "\n",
    "\n",
    "In addition, your final script should both print the analysis to the terminal and export a text file with the results."
   ]
  },
  {
   "cell_type": "code",
   "execution_count": 3,
   "metadata": {},
   "outputs": [],
   "source": [
    "import os\n",
    "import csv\n",
    "\n",
    "#define csv path\n",
    "budget_path = os.path.join(\"..\", \"..\", \"..\", \"RICEHOU201811DATA2\", \"class-tth\", \"03-Python\", \"homework\", \"Instructions\", \"PyBank\", \"Resources\", \"budget_data.csv\")"
   ]
  },
  {
   "cell_type": "code",
   "execution_count": 18,
   "metadata": {},
   "outputs": [],
   "source": [
    "#read in the csv file\n",
    "with open(budget_path, \"r\",newline=\"\") as budget_csv:\n",
    "\n",
    "    budget_reader = csv.reader(budget_csv, delimiter=\",\")\n",
    "    budget_header = next(budget_reader)\n",
    "    \n",
    "    #set inital variables and blank lists\n",
    "    month_count = 0\n",
    "    total_profit = 0\n",
    "    month_list = []\n",
    "    profit_list = []\n",
    "    \n",
    "#loop for total variables and populate blank lists\n",
    "    for row in budget_reader:\n",
    "        month_count +=1\n",
    "        total_profit += int(row[1])\n",
    "        month_list.append(row[0])\n",
    "        profit_list.append(row[1])\n",
    "    \n",
    "#loop through profit_list to solve for monthly_change (with print check)\n",
    "    monthly_change = [int(profit_list[i+1]) - int(profit_list[i]) for i in range(len(profit_list)-1)]\n",
    "\n",
    "#solve for remaining qustions based on previously set variables and lists\n",
    "    avg_change = sum(monthly_change) / (month_count - 1)\n",
    "    \n",
    "    max_change = max(monthly_change)\n",
    "    max_change_month = month_list[monthly_change.index(max_change)+1]\n",
    "    \n",
    "    min_change = min(monthly_change)\n",
    "    min_change_month = month_list[monthly_change.index(min_change)+1]"
   ]
  },
  {
   "cell_type": "code",
   "execution_count": 22,
   "metadata": {},
   "outputs": [
    {
     "name": "stdout",
     "output_type": "stream",
     "text": [
      "Financial Analysis\n",
      "-------------------------\n",
      "Total Months: 86\n",
      "Total: $38382578\n",
      "Average Change: $-2315.1176470588234\n",
      "Greatest Increase in Profits: Feb-2012 ($1926159)\n",
      "Greatest Increase in Profits: Sep-2013 ($-2196167)\n"
     ]
    }
   ],
   "source": [
    "#print output\n",
    "print(f\"Financial Analysis\")\n",
    "print(f\"-\"*25)\n",
    "print(f\"Total Months: {month_count}\")\n",
    "print(f\"Total: ${total_profit}\")\n",
    "print(f\"Average Change: ${avg_change}\")\n",
    "print(f\"Greatest Increase in Profits: {max_change_month} (${max_change})\")\n",
    "print(f\"Greatest Increase in Profits: {min_change_month} (${min_change})\")     \n",
    "    "
   ]
  }
 ],
 "metadata": {
  "kernelspec": {
   "display_name": "Python 3",
   "language": "python",
   "name": "python3"
  },
  "language_info": {
   "codemirror_mode": {
    "name": "ipython",
    "version": 3
   },
   "file_extension": ".py",
   "mimetype": "text/x-python",
   "name": "python",
   "nbconvert_exporter": "python",
   "pygments_lexer": "ipython3",
   "version": "3.7.0"
  }
 },
 "nbformat": 4,
 "nbformat_minor": 2
}
