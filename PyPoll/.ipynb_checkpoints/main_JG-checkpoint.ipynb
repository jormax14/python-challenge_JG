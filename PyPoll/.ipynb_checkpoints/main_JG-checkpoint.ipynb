{
 "cells": [
  {
   "cell_type": "markdown",
   "metadata": {},
   "source": [
    "In this challenge, you are tasked with helping a small, rural town modernize its vote-counting process. (Up until now, Uncle Cleetus had been trustfully tallying them one-by-one, but unfortunately, his concentration isn't what it used to be.)\n",
    "\n",
    "You will be give a set of poll data called election_data.csv. The dataset is composed of three columns: Voter ID, County, and Candidate. Your task is to create a Python script that analyzes the votes and calculates each of the following:\n",
    "\n",
    "* The total number of votes cast\n",
    "* A complete list of candidates who received votes\n",
    "* The percentage of votes each candidate won\n",
    "* The total number of votes each candidate won\n",
    "* The winner of the election based on popular vote.\n",
    "\n",
    "In addition, your final script should both print the analysis to the terminal and export a text file with the results."
   ]
  },
  {
   "cell_type": "code",
   "execution_count": 2,
   "metadata": {},
   "outputs": [],
   "source": [
    "import os\n",
    "import csv\n",
    "\n",
    "#define csv path\n",
    "election_path = os.path.join(\"..\", \"..\", \"..\", \"RICEHOU201811DATA2\", \"class-tth\", \"03-Python\", \"homework\", \"Instructions\", \"PyPoll\", \"Resources\", \"election_data.csv\")"
   ]
  },
  {
   "cell_type": "code",
   "execution_count": 10,
   "metadata": {},
   "outputs": [
    {
     "name": "stdout",
     "output_type": "stream",
     "text": [
      "{'Khan': 2218231, 'Correy': 704200, 'Li': 492940, \"O'Tooley\": 105630}\n"
     ]
    }
   ],
   "source": [
    "#read in the csv file\n",
    "with open(election_path, \"r\",newline=\"\") as election_csv:\n",
    "\n",
    "    election_reader = csv.reader(election_csv, delimiter=\",\")\n",
    "    election_header = next(election_reader)\n",
    "    \n",
    "#set inital variables and blank lists\n",
    "    voter_count = 0\n",
    "    candidate_data = []\n",
    "    candidates = {}\n",
    "\n",
    "#loop for total variables and populate blank lists\n",
    "    for row in election_reader:\n",
    "        voter_count +=1\n",
    "        candidate_data.append(row[2])\n",
    "    for x in candidate_data:\n",
    "        if x in candidates:\n",
    "            candidates[x] = candidates.get(x) + 1\n",
    "        else:\n",
    "            candidates[x] = 1\n",
    "    print(candidates)\n",
    "    \n"
   ]
  },
  {
   "cell_type": "code",
   "execution_count": null,
   "metadata": {},
   "outputs": [],
   "source": []
  }
 ],
 "metadata": {
  "kernelspec": {
   "display_name": "Python 3",
   "language": "python",
   "name": "python3"
  },
  "language_info": {
   "codemirror_mode": {
    "name": "ipython",
    "version": 3
   },
   "file_extension": ".py",
   "mimetype": "text/x-python",
   "name": "python",
   "nbconvert_exporter": "python",
   "pygments_lexer": "ipython3",
   "version": "3.7.0"
  }
 },
 "nbformat": 4,
 "nbformat_minor": 2
}
