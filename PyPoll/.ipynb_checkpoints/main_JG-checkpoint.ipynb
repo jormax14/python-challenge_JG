{
 "cells": [
  {
   "cell_type": "markdown",
   "metadata": {},
   "source": [
    "In this challenge, you are tasked with helping a small, rural town modernize its vote-counting process. (Up until now, Uncle Cleetus had been trustfully tallying them one-by-one, but unfortunately, his concentration isn't what it used to be.)\n",
    "\n",
    "You will be give a set of poll data called election_data.csv. The dataset is composed of three columns: Voter ID, County, and Candidate. Your task is to create a Python script that analyzes the votes and calculates each of the following:\n",
    "\n",
    "* The total number of votes cast\n",
    "* A complete list of candidates who received votes\n",
    "* The percentage of votes each candidate won\n",
    "* The total number of votes each candidate won\n",
    "* The winner of the election based on popular vote.\n",
    "\n",
    "In addition, your final script should both print the analysis to the terminal and export a text file with the results."
   ]
  },
  {
   "cell_type": "code",
   "execution_count": 34,
   "metadata": {},
   "outputs": [],
   "source": [
    "import os\n",
    "import csv\n",
    "\n",
    "#define csv path\n",
    "election_path = os.path.join(\"..\", \"..\", \"..\", \"RICEHOU201811DATA2\", \"class-tth\", \"03-Python\", \"homework\", \"Instructions\", \"PyPoll\", \"Resources\", \"election_data.csv\")"
   ]
  },
  {
   "cell_type": "code",
   "execution_count": 35,
   "metadata": {},
   "outputs": [],
   "source": [
    "#read in the csv file\n",
    "with open(election_path, \"r\",newline=\"\") as election_csv:\n",
    "\n",
    "    election_reader = csv.reader(election_csv, delimiter=\",\")\n",
    "    election_header = next(election_reader)\n",
    "    \n",
    "#set inital variables and blank lists\n",
    "    voter_count = 0\n",
    "    candidate_data = []\n",
    "    candidates = {}\n",
    "    candidates_percentage = {}\n",
    "    combined_data = {}\n",
    "\n",
    "#loop for total voter count and populate candidate_data list\n",
    "    for row in election_reader:\n",
    "        voter_count +=1\n",
    "        candidate_data.append(row[2])\n",
    "\n",
    "#loop through candidate_data list to count occurence of key to populate candidates dictionary\n",
    "    for x in candidate_data:\n",
    "        if x in candidates:\n",
    "            candidates[x] = candidates.get(x) + 1\n",
    "        else:\n",
    "            candidates[x] = 1\n",
    "\n",
    "#define/populate candidates_percentage dictionary by looping through candidates dictionary and turning voter count into %\n",
    "    candidates_percentage = {k: round(v / voter_count * 100, 3) for k, v in candidates.items()}\n",
    "\n",
    "#combine candidates and candidates_percentage dictionary into one dictionary\n",
    "    for key in (candidates.keys() | candidates_percentage.keys()):\n",
    "        if key in candidates: combined_data.setdefault(key, []).append(candidates[key])\n",
    "        if key in candidates_percentage: combined_data.setdefault(key, []).append(candidates_percentage[key])\n",
    "\n",
    "#define winner from key in candidates based on max value            \n",
    "    winner = max(candidates, key=candidates.get)"
   ]
  },
  {
   "cell_type": "code",
   "execution_count": 36,
   "metadata": {},
   "outputs": [
    {
     "name": "stdout",
     "output_type": "stream",
     "text": [
      "Election Results\n",
      "-------------------------\n",
      "Total Votes: 3521001\n",
      "-------------------------\n",
      "Li: 14.000% (492940)\n",
      "O'Tooley: 3.000% (105630)\n",
      "Khan: 63.000% (2218231)\n",
      "Correy: 20.000% (704200)\n",
      "-------------------------\n",
      "Winner: Khan\n",
      "-------------------------\n"
     ]
    }
   ],
   "source": [
    "#print results\n",
    "print(f\"Election Results\")\n",
    "print(f\"-\"*25)\n",
    "print(f\"Total Votes: {voter_count}\")\n",
    "print(f\"-\"*25)\n",
    "\n",
    "for k, (v, z) in combined_data.items():\n",
    "    print(f\"{k}: {z}00% ({v})\")\n",
    "    \n",
    "print(f\"-\"*25)\n",
    "print(f\"Winner: {winner}\")\n",
    "print(f\"-\"*25)"
   ]
  },
  {
   "cell_type": "code",
   "execution_count": null,
   "metadata": {},
   "outputs": [],
   "source": []
  }
 ],
 "metadata": {
  "kernelspec": {
   "display_name": "Python 3",
   "language": "python",
   "name": "python3"
  },
  "language_info": {
   "codemirror_mode": {
    "name": "ipython",
    "version": 3
   },
   "file_extension": ".py",
   "mimetype": "text/x-python",
   "name": "python",
   "nbconvert_exporter": "python",
   "pygments_lexer": "ipython3",
   "version": "3.7.0"
  }
 },
 "nbformat": 4,
 "nbformat_minor": 2
}
